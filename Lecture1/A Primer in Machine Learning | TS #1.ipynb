{
 "cells": [
  {
   "cell_type": "markdown",
   "metadata": {},
   "source": [
    "# A few remarks\n",
    "Coding has been the bread and butter for developers since\n",
    "the dawn of computing. We're used to creating\n",
    "applications by breaking down requirements into\n",
    "composable problems that can then be coded against."
   ]
  },
  {
   "cell_type": "markdown",
   "metadata": {},
   "source": [
    "So for example, if\n",
    "we have to write an application that figures\n",
    "out a stock analytic, maybe the price\n",
    "divided by the ratio, we can usually write code to get the values from a data source, do the calculation and\n",
    "then return the result.\n",
    "\n",
    "<img src=\"https://raw.githubusercontent.com/simoneazeglio/MLJCTensorshow/master/Lecture1/Immagini/S1N1.png\">"
   ]
  },
  {
   "cell_type": "markdown",
   "metadata": {},
   "source": [
    "Or if we're writing a game we can usually figure\n",
    "out the rules. For example, if the ball hits the brick then the brick should vanish and the ball\n",
    "should rebound. But if the ball falls\n",
    "off the bottom of the screen then maybe\n",
    "the player loses their life.\n",
    "\n",
    "<img src=\"https://raw.githubusercontent.com/simoneazeglio/MLJCTensorshow/master/Lecture1/Immagini/S2N1.png\">"
   ]
  },
  {
   "cell_type": "markdown",
   "metadata": {},
   "source": [
    "We can represent that\n",
    "with this diagram. Rules and data go in\n",
    "answers come out. Rules are expressed in a programming language\n",
    "and data can come from a variety of sources from local variables all the\n",
    "way up to databases.\n",
    "\n",
    "<img src=\"https://raw.githubusercontent.com/simoneazeglio/MLJCTensorshow/master/Lecture1/Immagini/S3N1.png\">"
   ]
  },
  {
   "cell_type": "markdown",
   "metadata": {},
   "source": [
    "Machine learning\n",
    "rearranges this diagram where we put answers in data in and then we get rules out. So instead of us as\n",
    "developers figuring out the rules when should\n",
    "the brick be removed, when should\n",
    "the player's life end, or what's the desired analytic\n",
    "for any other concept, what we will do is we\n",
    "can get a bunch of examples for what we want to see and then have the computer\n",
    "figure out the rules. "
   ]
  },
  {
   "cell_type": "markdown",
   "metadata": {},
   "source": [
    "Now, this is particularly\n",
    "valuable for problems that you can't solve by figuring\n",
    "the rules out for yourself. So consider this example,\n",
    "activity recognition."
   ]
  },
  {
   "cell_type": "markdown",
   "metadata": {},
   "source": [
    " If I'm building a device that\n",
    "detects if somebody is walking and I have data\n",
    "about their speed, I might write my code like this and if they're\n",
    "running, that's a faster speed, so I\n",
    "could adapt my code to this and if they're biking, well that's not too bad either. I can adapt my code like this."
   ]
  },
  {
   "cell_type": "markdown",
   "metadata": {},
   "source": [
    "But then I have to do\n",
    "golf recognition too, now my concept becomes broken. But not only that, doing it by speed alone\n",
    "of course is quite naive.\n",
    "\n",
    "<img src=\"https://raw.githubusercontent.com/simoneazeglio/MLJCTensorshow/master/Lecture1/Immagini/S7N1.png\">"
   ]
  },
  {
   "cell_type": "markdown",
   "metadata": {},
   "source": [
    "We walk and run at\n",
    "different speeds uphill and downhill and other people walk and run at\n",
    "different speeds to us. So, let's go back\n",
    "to this diagram"
   ]
  },
  {
   "cell_type": "markdown",
   "metadata": {},
   "source": [
    "Ultimately machine\n",
    "learning is very similar but we're just\n",
    "flipping the axes.\n",
    "\n",
    "<img src=\"https://raw.githubusercontent.com/simoneazeglio/MLJCTensorshow/master/Lecture1/Immagini/S8N1.png\">"
   ]
  },
  {
   "cell_type": "markdown",
   "metadata": {},
   "source": [
    "So instead of me trying\n",
    "to express the problem as rules when often that\n",
    "isn't even possible, I'll have to compromise. The new paradigm is that I get lots and lots of\n",
    "examples and then I have labels on those\n",
    "examples and I use the data to say this is\n",
    "what walking looks like, this is what running looks like, this is what biking\n",
    "looks like and yes, even this is what\n",
    "golfing looks like"
   ]
  },
  {
   "cell_type": "markdown",
   "metadata": {},
   "source": [
    "A machine learning algorithm then figures out the\n",
    "specific patterns in each set of data that determines the\n",
    "distinctiveness of each. \n",
    "\n",
    "<img src=\"https://raw.githubusercontent.com/simoneazeglio/MLJCTensorshow/master/Lecture1/Immagini/S9N1.png\">"
   ]
  },
  {
   "cell_type": "markdown",
   "metadata": {},
   "source": [
    "That's what's so powerful and exciting about\n",
    "this programming paradigm. It's more than just a new way of doing the same old thing. It opens up new possibilities that were infeasible\n",
    "to do before."
   ]
  }
 ],
 "metadata": {
  "kernelspec": {
   "display_name": "Python 3",
   "language": "python",
   "name": "python3"
  },
  "language_info": {
   "codemirror_mode": {
    "name": "ipython",
    "version": 3
   },
   "file_extension": ".py",
   "mimetype": "text/x-python",
   "name": "python",
   "nbconvert_exporter": "python",
   "pygments_lexer": "ipython3",
   "version": "3.7.0"
  }
 },
 "nbformat": 4,
 "nbformat_minor": 2
}
